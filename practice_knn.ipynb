{
  "nbformat": 4,
  "nbformat_minor": 0,
  "metadata": {
    "colab": {
      "provenance": []
    },
    "kernelspec": {
      "name": "python3",
      "display_name": "Python 3"
    },
    "language_info": {
      "name": "python"
    }
  },
  "cells": [
    {
      "cell_type": "code",
      "execution_count": 51,
      "metadata": {
        "id": "Pjsb49BwM4sH"
      },
      "outputs": [],
      "source": [
        "from sklearn.datasets import load_wine\n",
        "import pandas as pd\n",
        "import seaborn as sns\n",
        "import matplotlib.pyplot as plt\n",
        "df=load_wine()\n",
        "data=pd.DataFrame(df.data,columns=df.feature_names)\n",
        "data['target']=df.target\n",
        "\n",
        "# null and duplicate values\n",
        "data.isnull().sum()\n",
        "data.duplicated().sum()\n",
        "\n",
        "#outlier detection\n",
        "from scipy.stats import zscore\n",
        "z_score=zscore(data)\n",
        "outlier=data[(z_score>3).any(axis=1)]\n",
        "data=data.drop(outlier.index)"
      ]
    },
    {
      "cell_type": "code",
      "source": [
        "#split the data\n",
        "x=data.drop('target',axis=1)\n",
        "y=data['target']"
      ],
      "metadata": {
        "id": "9nyDh6FUZJB8"
      },
      "execution_count": 52,
      "outputs": []
    },
    {
      "cell_type": "code",
      "source": [
        "#feature selection (chi square)\n",
        "from sklearn.feature_selection import SelectKBest,chi2\n",
        "\n",
        "selector=SelectKBest(chi2,k=10)\n",
        "selector.fit_transform(x,y)\n",
        "k=selector.get_support()\n",
        "selected_feature=x.columns[k]\n",
        "x_new=data[selected_feature]"
      ],
      "metadata": {
        "id": "dyN-Q00lXfJG"
      },
      "execution_count": 53,
      "outputs": []
    },
    {
      "cell_type": "code",
      "source": [
        "#saling\n",
        "from sklearn.preprocessing import StandardScaler\n",
        "scaler=StandardScaler()\n",
        "x_new=scaler.fit_transform(x_new)\n",
        "x_final=pd.DataFrame(x_new,columns=selected_feature)"
      ],
      "metadata": {
        "id": "-U-LtdXvYyi1"
      },
      "execution_count": 54,
      "outputs": []
    },
    {
      "cell_type": "code",
      "source": [
        "#split the data\n",
        "from sklearn.model_selection import train_test_split\n",
        "x_train,x_test,y_train,y_test=train_test_split(x_final,y,test_size=0.2,random_state=42)"
      ],
      "metadata": {
        "id": "Td45jhSLglxw"
      },
      "execution_count": 55,
      "outputs": []
    },
    {
      "cell_type": "code",
      "source": [
        "#model selection and prediction\n",
        "from sklearn.neighbors import KNeighborsClassifier\n",
        "\n",
        "knn=KNeighborsClassifier()\n",
        "knn.fit(x_train,y_train)\n",
        "\n",
        "y_pred=knn.predict(x_test)"
      ],
      "metadata": {
        "id": "msd17l33Z4Df"
      },
      "execution_count": 56,
      "outputs": []
    },
    {
      "cell_type": "code",
      "source": [
        "#model evaluation\n",
        "from sklearn.metrics import accuracy_score, precision_score, recall_score, f1_score, confusion_matrix, classification_report, roc_auc_score,ConfusionMatrixDisplay\n",
        "\n",
        "# Assuming y_test and y_pred are your true and predicted labels\n",
        "print(\"Accuracy:\", accuracy_score(y_test, y_pred))\n",
        "print(\"Precision:\", precision_score(y_test, y_pred, average='weighted'))\n",
        "print(\"Recall:\", recall_score(y_test, y_pred, average='weighted'))\n",
        "print(\"F1 Score:\", f1_score(y_test, y_pred, average='weighted'))\n",
        "print(\"Classification Report:\\n\", classification_report(y_test, y_pred))\n",
        "\n",
        "# confusion matrix\n",
        "cm = confusion_matrix(y_test, y_pred)\n",
        "plt.figure(figsize=(6,4))\n",
        "sns.heatmap(cm, annot=True, fmt='d', cmap='Blues', cbar=False)\n",
        "plt.xlabel('Predicted')\n",
        "plt.ylabel('Actual')\n",
        "plt.title('Confusion Matrix')\n",
        "plt.show()\n"
      ],
      "metadata": {
        "colab": {
          "base_uri": "https://localhost:8080/",
          "height": 670
        },
        "id": "D8eXXjx8f4nE",
        "outputId": "b157b410-f3ff-4c0f-83d0-d6a5b4ac04c8"
      },
      "execution_count": 57,
      "outputs": [
        {
          "output_type": "stream",
          "name": "stdout",
          "text": [
            "Accuracy: 1.0\n",
            "Precision: 1.0\n",
            "Recall: 1.0\n",
            "F1 Score: 1.0\n",
            "Classification Report:\n",
            "               precision    recall  f1-score   support\n",
            "\n",
            "           0       1.00      1.00      1.00        15\n",
            "           1       1.00      1.00      1.00        12\n",
            "           2       1.00      1.00      1.00         7\n",
            "\n",
            "    accuracy                           1.00        34\n",
            "   macro avg       1.00      1.00      1.00        34\n",
            "weighted avg       1.00      1.00      1.00        34\n",
            "\n"
          ]
        },
        {
          "output_type": "display_data",
          "data": {
            "text/plain": [
              "<Figure size 600x400 with 1 Axes>"
            ],
            "image/png": "[encoded data removed]"
          },
          "metadata": {}
        }
      ]
    },
    {
      "cell_type": "code",
      "source": [],
      "metadata": {
        "id": "gliVVcplhLOt"
      },
      "execution_count": null,
      "outputs": []
    }
  ]
}