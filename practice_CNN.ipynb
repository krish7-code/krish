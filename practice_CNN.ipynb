{
  "nbformat": 4,
  "nbformat_minor": 0,
  "metadata": {
    "colab": {
      "provenance": [],
      "gpuType": "T4"
    },
    "kernelspec": {
      "name": "python3",
      "display_name": "Python 3"
    },
    "language_info": {
      "name": "python"
    },
    "accelerator": "GPU"
  },
  "cells": [
    {
      "cell_type": "code",
      "execution_count": 9,
      "metadata": {
        "id": "sOx77Ftoh4BN"
      },
      "outputs": [],
      "source": [
        "import torch\n",
        "import torch.nn as nn\n",
        "import torch.optim as optim\n",
        "import torch.nn.functional as F\n",
        "from torch.utils.data import DataLoader\n",
        "from torchvision import datasets, transforms\n",
        "import pandas as pd"
      ]
    },
    {
      "cell_type": "code",
      "source": [
        "# Transormation (image ==> tensors)\n",
        "transform=transforms.ToTensor()"
      ],
      "metadata": {
        "id": "i5CGU0p4iAW3"
      },
      "execution_count": 10,
      "outputs": []
    },
    {
      "cell_type": "code",
      "source": [
        "# train and test data\n",
        "train_data=datasets.MNIST(root=r\"C:\\Users\\mgopi\\OneDrive\\Documents\\Dataset\",train=True,download=True,transform=transform)\n",
        "test_data=datasets.MNIST(root=r\"C:\\Users\\mgopi\\OneDrive\\Documents\\Dataset\",train=False,download=True,transform=transform)"
      ],
      "metadata": {
        "id": "4J38y7bSl6-s"
      },
      "execution_count": 11,
      "outputs": []
    },
    {
      "cell_type": "code",
      "source": [
        "# load the data batch\n",
        "train_loader=DataLoader(train_data,batch_size=100,shuffle=True)\n",
        "test_loader=DataLoader(test_data,batch_size=100,shuffle=False)"
      ],
      "metadata": {
        "id": "anM5Vsh2wgOd"
      },
      "execution_count": 12,
      "outputs": []
    },
    {
      "cell_type": "code",
      "source": [
        "# define the model\n",
        "class CNN (nn.Module):\n",
        "\n",
        "  def __init__(self):\n",
        "    super(CNN,self).__init__()\n",
        "    # define convolution layer\n",
        "    self.conv1=nn.Conv2d(1,6,3,1)\n",
        "    self.conv2=nn.Conv2d(6,16,3,1)\n",
        "    self.conv3=nn.Conv2d(16,32,3,1)\n",
        "\n",
        "    # fully connected layer\n",
        "    self.fc1=nn.Linear(32*1*1,120)\n",
        "    self.fc2=nn.Linear(120,84)\n",
        "    self.fc3=nn.Linear(84,10)\n",
        "\n",
        "  #forward\n",
        "  def forward(self,x):\n",
        "    # convolution 1\n",
        "    x=F.relu(self.conv1(x))\n",
        "    x=F.max_pool2d(x,2,2)\n",
        "\n",
        "    # convolution 2\n",
        "    x=F.relu(self.conv2(x))\n",
        "    x=F.max_pool2d(x,2,2)\n",
        "\n",
        "    #convolution 3\n",
        "    x=F.relu(self.conv3(x))\n",
        "    x=F.max_pool2d(x,2,2)\n",
        "\n",
        "    # flattaning\n",
        "    x=x.view(-1,32*1*1)\n",
        "\n",
        "    # fully connected layer\n",
        "    x=F.relu(self.fc1(x))\n",
        "    x=F.relu(self.fc2(x))\n",
        "    x=F.log_softmax(self.fc3(x),dim=1)\n",
        "\n",
        "    return x"
      ],
      "metadata": {
        "id": "hiwdiA_oJ-PL"
      },
      "execution_count": 13,
      "outputs": []
    },
    {
      "cell_type": "code",
      "source": [
        "model=CNN()"
      ],
      "metadata": {
        "id": "BH6mjiAYKMPl"
      },
      "execution_count": 14,
      "outputs": []
    },
    {
      "cell_type": "code",
      "source": [
        "# loss function and optimizer\n",
        "criterion=nn.CrossEntropyLoss()\n",
        "optimizer=optim.Adam(model.parameters(),lr=0.001)"
      ],
      "metadata": {
        "id": "3MNgGm_2O952"
      },
      "execution_count": 15,
      "outputs": []
    },
    {
      "cell_type": "code",
      "source": [
        "#train and test\n",
        "\n",
        "epochs=5\n",
        "\n",
        "for i in range (epochs):\n",
        "  for j,(x_train,y_train) in enumerate(train_loader):\n",
        "\n",
        "\n",
        "    #train\n",
        "    y_pred=model(x_train)\n",
        "    loss=criterion(y_pred,y_train)\n",
        "\n",
        "    #backprop\n",
        "    optimizer.zero_grad()\n",
        "    loss.backward()\n",
        "    optimizer.step()\n",
        "\n",
        "    #print the progress\n",
        "    if j%100==0:\n",
        "      print(f\"Epoch {i} ==> patch {(j//100)+1} ==> loss {loss.item()}\")\n",
        "\n",
        "with torch.no_grad():\n",
        "  test_losses=[]\n",
        "  correct = 0\n",
        "  total = 0\n",
        "  for x_test,y_test in test_loader:\n",
        "    y_pred=model(x_test)\n",
        "    loss=criterion(y_pred,y_test)\n",
        "    test_losses.append(loss.item())\n",
        "    pred=y_pred.argmax(dim=1)\n",
        "    correct+=(pred==y_test).sum().item()\n",
        "    total+=y_test.size(0)\n",
        "  print(\"Testing\".center(80,'-'))\n",
        "  accuracy=100*correct/total\n",
        "  loss=sum(test_losses)/len(test_losses)\n",
        "  print(f\"Test Accuracy {accuracy} and Test loss {loss}\")"
      ],
      "metadata": {
        "colab": {
          "base_uri": "https://localhost:8080/"
        },
        "id": "NqcOz6pfrOwS",
        "outputId": "7ac50b45-8136-47ae-c34a-57877e710edb"
      },
      "execution_count": 16,
      "outputs": [
        {
          "output_type": "stream",
          "name": "stdout",
          "text": [
            "Epoch 0 ==> patch 1 ==> loss 2.2919793128967285\n",
            "Epoch 0 ==> patch 2 ==> loss 1.1737070083618164\n",
            "Epoch 0 ==> patch 3 ==> loss 0.5783759355545044\n",
            "Epoch 0 ==> patch 4 ==> loss 0.408760666847229\n",
            "Epoch 0 ==> patch 5 ==> loss 0.2335146963596344\n",
            "Epoch 0 ==> patch 6 ==> loss 0.224348247051239\n",
            "Epoch 1 ==> patch 1 ==> loss 0.43707016110420227\n",
            "Epoch 1 ==> patch 2 ==> loss 0.46433013677597046\n",
            "Epoch 1 ==> patch 3 ==> loss 0.19358626008033752\n",
            "Epoch 1 ==> patch 4 ==> loss 0.19407311081886292\n",
            "Epoch 1 ==> patch 5 ==> loss 0.10148365050554276\n",
            "Epoch 1 ==> patch 6 ==> loss 0.12885338068008423\n",
            "Epoch 2 ==> patch 1 ==> loss 0.1588183045387268\n",
            "Epoch 2 ==> patch 2 ==> loss 0.05651653930544853\n",
            "Epoch 2 ==> patch 3 ==> loss 0.16339614987373352\n",
            "Epoch 2 ==> patch 4 ==> loss 0.1572973132133484\n",
            "Epoch 2 ==> patch 5 ==> loss 0.1537092626094818\n",
            "Epoch 2 ==> patch 6 ==> loss 0.12238281965255737\n",
            "Epoch 3 ==> patch 1 ==> loss 0.08909334242343903\n",
            "Epoch 3 ==> patch 2 ==> loss 0.12058959156274796\n",
            "Epoch 3 ==> patch 3 ==> loss 0.09633063524961472\n",
            "Epoch 3 ==> patch 4 ==> loss 0.05383875221014023\n",
            "Epoch 3 ==> patch 5 ==> loss 0.049044813960790634\n",
            "Epoch 3 ==> patch 6 ==> loss 0.06951674073934555\n",
            "Epoch 4 ==> patch 1 ==> loss 0.04761284962296486\n",
            "Epoch 4 ==> patch 2 ==> loss 0.06734087318181992\n",
            "Epoch 4 ==> patch 3 ==> loss 0.03959684073925018\n",
            "Epoch 4 ==> patch 4 ==> loss 0.13288597762584686\n",
            "Epoch 4 ==> patch 5 ==> loss 0.16273783147335052\n",
            "Epoch 4 ==> patch 6 ==> loss 0.0895410031080246\n",
            "------------------------------------Testing-------------------------------------\n",
            "Test Accuracy 97.37 and Test loss 0.08519647618872113\n"
          ]
        }
      ]
    }
  ]
}